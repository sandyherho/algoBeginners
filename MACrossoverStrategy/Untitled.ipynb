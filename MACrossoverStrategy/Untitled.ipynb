{
 "cells": [
  {
   "cell_type": "code",
   "execution_count": 6,
   "id": "e68bc232-a2dd-4d00-b360-fa1471fb4333",
   "metadata": {},
   "outputs": [],
   "source": [
    "import pandas as pd\n",
    "import matplotlib.pyplot as plt\n",
    "import datetime\n",
    "plt.style.use(\"bmh\")\n",
    "\n",
    "class MovingAverageCrossover:\n",
    "    def __init__(self, capital, stock, start, end, short_period, long_period):\n",
    "        self.data = None\n",
    "        self.is_long = False\n",
    "        self.short_period = short_period\n",
    "        self.long_period = long_period\n",
    "        self.capital = capital\n",
    "        self.equity = [capital]\n",
    "        "
   ]
  },
  {
   "cell_type": "code",
   "execution_count": null,
   "id": "2e30bf73-5af0-4004-a86f-c4889330f8a5",
   "metadata": {},
   "outputs": [],
   "source": []
  }
 ],
 "metadata": {
  "kernelspec": {
   "display_name": "Python 3 (ipykernel)",
   "language": "python",
   "name": "python3"
  },
  "language_info": {
   "codemirror_mode": {
    "name": "ipython",
    "version": 3
   },
   "file_extension": ".py",
   "mimetype": "text/x-python",
   "name": "python",
   "nbconvert_exporter": "python",
   "pygments_lexer": "ipython3",
   "version": "3.11.0"
  }
 },
 "nbformat": 4,
 "nbformat_minor": 5
}
