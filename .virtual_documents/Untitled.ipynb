import numpy as np
import pandas as pd
import matplotlib.pyplot as plt
import yfinance as yf
plt.style.use("bmh")

def download_data(stock, start_date, end_date):
    data = {}
    ticker = yf.download(stock, start_date, end_date)
    data['Price'] = ticker['Close']
    return pd.DataFrame(data)

if __name__ == '__main__':
    start = '2010-01-05'
    end = '2015-01-05'
    stock_data = download_data('IBM', start, end)
    print(stock_data)



