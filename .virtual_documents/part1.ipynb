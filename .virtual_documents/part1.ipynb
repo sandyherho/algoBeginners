





import numpy as np
import pandas as pd
import pandas_datareader as pdr
import matplotlib.pyplot as plt
import yfinance as yf
plt.style.use("bmh")





gld = yf.download("GLD")
print(gld.head())


day = np.arange(1, len(gld) + 1)
gld['day'] = day
gld.head()


# Drop the "Ticker" level (second level)
gld.columns = gld.columns.droplevel(1)

# Remove the "Price" name from columns
gld.columns.name = None


gld.drop(columns=['Volume'], inplace=True)


gld = gld[['day', 'Open', 'High', 'Low', 'Close']]


gld.head()


gld.info()





gld['9-day'] = gld['Close'].rolling(9).mean().shift(1) # fast
gld['21-day'] = gld['Close'].rolling(21).mean().shift(1) # slow
gld[19:25]


gld['signal'] = np.where(gld['9-day'] > gld['21-day'], 1, 0)
gld['signal'] = np.where(gld['9-day'] < gld['21-day'], -1, gld['signal'])
gld.dropna(inplace=True)
gld.head()


gld['return'] = np.log(gld['Close']).diff()
gld['system_return'] = gld['signal'] * gld["return"]
gld.head()


gld["entry"] = gld['signal'].diff()
gld.head()


plt.rc
